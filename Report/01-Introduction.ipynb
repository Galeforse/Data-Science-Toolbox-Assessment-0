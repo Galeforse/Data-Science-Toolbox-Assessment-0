{
 "cells": [
  {
   "cell_type": "markdown",
   "metadata": {},
   "source": [
    "# Data Science Toolbox Assessment 0"
   ]
  },
  {
   "cell_type": "markdown",
   "metadata": {},
   "source": [
    "## Introduction"
   ]
  },
  {
   "cell_type": "markdown",
   "metadata": {},
   "source": [
    "The first project we were to undertake was to:\n",
    "1. Give us experience with collaborative working\n",
    "2. Give us experience of assessments\n",
    "3. Gice us experience with programming"
   ]
  },
  {
   "cell_type": "markdown",
   "metadata": {},
   "source": [
    "Within the project we were tasked with looking at the following topics within Cybersecurity:\n",
    "\n",
    "* What are the broad types of data?\n",
    "* What are the main types of resource?\n",
    "* What type of problems can the resources solve?\n",
    "* Are there any generic data science resources that might be applicable? In what sense are they applicable?\n",
    "* How might the approach be compared to other approaches, and/or applied across different datasets?\n",
    "* How is the experience of sharing code via GitHub limiting, and/or enabling?"
   ]
  },
  {
   "cell_type": "markdown",
   "metadata": {},
   "source": [
    "The project guidance initially took us towards [Secrepo - source of security data](http://www.secrepo.com/). After this we looked to other sources of cybersecurity data to see what other examples of this type of data we could obtain and analyse. We also looked at sources of code and analysis that had been performed on data. This took us to sources such as: \n",
    "* [The UNSW-NB15 Dataset](https://www.unsw.adfa.edu.au/unsw-canberra-cyber/cybersecurity/ADFA-NB15-Datasets/)\n",
    "* [Kaggle Credit Card Fraud Dataset](https://www.kaggle.com/mlg-ulb/creditcardfraud)\n",
    "* [Malware Capture Facility Project](https://mcfp.weebly.com/mcfp-dataset.html)\n",
    "\n",
    "This allowed those of us who had little prior experience of working with cybersecuriy data to gain a good exposure to the kinds of analysis we could do on this kind of data such as Machine Learning, Traffic Analysis and visualisation processes. \n",
    "\n",
    "In the next documents within the report, the knowledge and understanding we obtained over the last 2 weeks will be demonstrated."
   ]
  }
 ],
 "metadata": {
  "kernelspec": {
   "display_name": "Python 3",
   "language": "python",
   "name": "python3"
  },
  "language_info": {
   "codemirror_mode": {
    "name": "ipython",
    "version": 3
   },
   "file_extension": ".py",
   "mimetype": "text/x-python",
   "name": "python",
   "nbconvert_exporter": "python",
   "pygments_lexer": "ipython3",
   "version": "3.7.4"
  }
 },
 "nbformat": 4,
 "nbformat_minor": 2
}
